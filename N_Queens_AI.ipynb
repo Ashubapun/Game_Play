{
  "nbformat": 4,
  "nbformat_minor": 0,
  "metadata": {
    "colab": {
      "provenance": [],
      "authorship_tag": "ABX9TyPtrUG7kPuuTIL47VWJd7xD",
      "include_colab_link": true
    },
    "kernelspec": {
      "name": "python3",
      "display_name": "Python 3"
    },
    "language_info": {
      "name": "python"
    }
  },
  "cells": [
    {
      "cell_type": "markdown",
      "metadata": {
        "id": "view-in-github",
        "colab_type": "text"
      },
      "source": [
        "<a href=\"https://colab.research.google.com/github/Ashubapun/Game_Play/blob/main/N_Queens_AI.ipynb\" target=\"_parent\"><img src=\"https://colab.research.google.com/assets/colab-badge.svg\" alt=\"Open In Colab\"/></a>"
      ]
    },
    {
      "cell_type": "code",
      "execution_count": null,
      "metadata": {
        "colab": {
          "base_uri": "https://localhost:8080/"
        },
        "id": "9xeb8bjQp8vD",
        "outputId": "873cdfa6-c58c-4bfc-b9ff-6a8acf2f02cf"
      },
      "outputs": [
        {
          "output_type": "stream",
          "name": "stdout",
          "text": [
            "Enter the number of queens\n",
            "8\n",
            "[1, 0, 0, 0, 0, 0, 0, 0]\n",
            "[0, 0, 0, 0, 1, 0, 0, 0]\n",
            "[0, 0, 0, 0, 0, 0, 0, 1]\n",
            "[0, 0, 0, 0, 0, 1, 0, 0]\n",
            "[0, 0, 1, 0, 0, 0, 0, 0]\n",
            "[0, 0, 0, 0, 0, 0, 1, 0]\n",
            "[0, 1, 0, 0, 0, 0, 0, 0]\n",
            "[0, 0, 0, 1, 0, 0, 0, 0]\n"
          ]
        }
      ],
      "source": [
        "# Taking number of queens as input from user\n",
        "print (\"Enter the number of queens\")\n",
        "N = int(input())\n",
        "# here we create a chessboard\n",
        "# NxN matrix with all elements set to 0\n",
        "board = [[0]*N for _ in range(N)]\n",
        "def attack(i, j):\n",
        "#checking vertically and horizontally\n",
        "    for k in range(0,N):\n",
        "        if board[i][k]==1 or board[k][j]==1:\n",
        "            return True\n",
        "#checking diagonally\n",
        "    for k in range(0,N):\n",
        "\t    for l in range(0,N):\n",
        "\t\t     if (k+l==i+j) or (k-l==i-j):\n",
        "\t\t\t      if board[k][l]==1:\n",
        "\t\t\t  \t    return True\n",
        "    return False\n",
        "def N_queens(n):\n",
        "\tif n==0:\n",
        "\t\treturn True\n",
        "\tfor i in range(0,N):\n",
        "\t    for j in range(0,N):\n",
        "\t\t      if (not(attack(i,j))) and (board[i][j]!=1):\n",
        "\t\t\t        board[i][j] = 1\n",
        "\t\t\t        if N_queens(n-1)==True:\n",
        "\t\t\t\t        return True\n",
        "\t\t\t        board[i][j] = 0\n",
        "\treturn False\n",
        "N_queens(N)\n",
        "for i in board:\n",
        "  print (i)\n"
      ]
    },
    {
      "cell_type": "code",
      "source": [
        "N = int(input('Enter the number of queens : '))\n",
        "\n",
        "def printSolution(board):\n",
        "    for i in range(N):\n",
        "        for j in range(N):\n",
        "            print (board[i][j],end=' ')\n",
        "        print()\n",
        "def isSafe(board, row, col):\n",
        "\n",
        "    # Check this row on left side\n",
        "    for i in range(col):\n",
        "        if board[row][i] == 1:\n",
        "            return False\n",
        "\n",
        "    # Check upper diagonal on left side\n",
        "    for i, j in zip(range(row, -1, -1), range(col, -1, -1)):\n",
        "        if board[i][j] == 1:\n",
        "            return False\n",
        "\n",
        "    # Check lower diagonal on left side\n",
        "    for i, j in zip(range(row, N, 1), range(col, -1, -1)):\n",
        "        if board[i][j] == 1:\n",
        "            return False\n",
        "\n",
        "    return True\n",
        "\n",
        "def solveNQUtil(board, col):\n",
        "  if col >= N:\n",
        "    return True\n",
        "  for i in range(N):\n",
        "    if isSafe(board, i, col):\n",
        "      board[i][col] = 1\n",
        "      if solveNQUtil(board, col + 1) == True:\n",
        "                return True\n",
        "\n",
        "      board[i][col] = 0\n",
        "  return False\n",
        "\n",
        "\n",
        "def solveNQ():\n",
        "    board = [ [0, 0, 0, 0],\n",
        "              [0, 0, 0, 0],\n",
        "              [0, 0, 0, 0],\n",
        "              [0, 0, 0, 0]\n",
        "             ]\n",
        "\n",
        "    if solveNQUtil(board, 0) == False:\n",
        "        print (\"Solution does not exist\")\n",
        "        return False\n",
        "\n",
        "    printSolution(board)\n",
        "    return True\n"
      ],
      "metadata": {
        "colab": {
          "base_uri": "https://localhost:8080/"
        },
        "id": "TNAOiwioxB1a",
        "outputId": "b0a07d69-fd18-4026-aac8-4d5c91c71e10"
      },
      "execution_count": null,
      "outputs": [
        {
          "name": "stdout",
          "output_type": "stream",
          "text": [
            "Enter the number of queens : 4\n"
          ]
        }
      ]
    },
    {
      "cell_type": "code",
      "source": [],
      "metadata": {
        "id": "bNYn07WV8VC1"
      },
      "execution_count": null,
      "outputs": []
    }
  ]
}