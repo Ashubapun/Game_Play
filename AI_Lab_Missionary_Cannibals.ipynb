{
  "cells": [
    {
      "cell_type": "markdown",
      "metadata": {
        "id": "view-in-github",
        "colab_type": "text"
      },
      "source": [
        "<a href=\"https://colab.research.google.com/github/Ashubapun/Game_Play/blob/main/AI_Lab_Missionary_Cannibals.ipynb\" target=\"_parent\"><img src=\"https://colab.research.google.com/assets/colab-badge.svg\" alt=\"Open In Colab\"/></a>"
      ]
    },
    {
      "cell_type": "code",
      "execution_count": null,
      "metadata": {
        "id": "YDpPsj2lxh5d"
      },
      "outputs": [],
      "source": [
        "import numpy as np\n",
        "import pandas as pd"
      ]
    },
    {
      "cell_type": "code",
      "execution_count": null,
      "metadata": {
        "colab": {
          "background_save": true,
          "base_uri": "https://localhost:8080/"
        },
        "id": "bk7Tl2qwsAyY",
        "outputId": "1ab54834-fafe-43dc-9268-2e899eccce33"
      },
      "outputs": [
        {
          "name": "stdout",
          "output_type": "stream",
          "text": [
            "Initial State : (1, 3, 3)\n",
            "Goal State is : (1, 0, 0)\n",
            "Invalid move\n",
            "Invalid move\n",
            "Invalid move\n",
            "Invalid move\n",
            "Invalid move\n"
          ]
        }
      ],
      "source": [
        "no_of_boat = int(input(\"Enter the number of boats : \"))\n",
        "no_of_missionary = int(input(\"Enter the number of missionary : \"))\n",
        "no_of_cannibal = int(input(\"Enter the number of cannibal : \"))\n",
        "\n",
        "\n",
        "# initial state\n",
        "missionary_on_left = no_of_missionary\n",
        "missionary_on_right = 0\n",
        "cannibal_on_left = no_of_cannibal\n",
        "cannibals_on_right = 0\n",
        "boat_side = \"Right\"\n",
        "\n",
        "print(f'Initial State : ({no_of_boat}, {no_of_missionary}, {no_of_cannibal})')\n",
        "print(f'Goal State is : ({no_of_boat}, 0, 0)')\n",
        "\n",
        "\n",
        "\n",
        "while True:\n",
        "    missionary = int(input(\"Enter number of Missionary in boat on \"+ boat_side + \":\"))\n",
        "    cannibals = int(input(\"Enter number of Cannibals in boat on \" + boat_side + \":\"))\n",
        "\n",
        "    #Maximum number of people one the boat should be 1 or 2\n",
        "    if (missionary+cannibals) != 1 and (missionary+cannibals) != 2:\n",
        "        print(\"Invalid move\")\n",
        "        continue\n",
        "\n",
        "    #Turn based decisions\n",
        "    if boat_side == \"Right\":\n",
        "        if missionary > missionary_on_right or cannibals > cannibals_on_right:\n",
        "            print(\"Invalid move\")\n",
        "            continue\n",
        "\n",
        "        missionary_on_right -= missionary\n",
        "        cannibals_on_right -= cannibals\n",
        "        missionary_on_left += missionary\n",
        "        cannibals_on_left += cannibals\n",
        "\n",
        "        boat_side = \"Left\"\n",
        "        clear_output()\n",
        "        print(\"\\nM =\", missionary_on_left, \"C =\", cannibals_on_left, end='')\n",
        "        print(\"  |B-----|  \", end='')\n",
        "        print(\"M =\", missionary_on_right, \"C =\", cannibals_on_right)\n",
        "\n",
        "    else:\n",
        "        if missionary > missionary_on_left or cannibals > cannibals_on_left:\n",
        "            print(\"Invalid move\")\n",
        "            continue\n",
        "\n",
        "        missionary_on_right += missionary\n",
        "        cannibals_on_right += cannibals\n",
        "        missionary_on_left -= missionary\n",
        "        cannibals_on_left -= cannibals\n",
        "\n",
        "        boat_side = \"Right\"\n",
        "        clear_output()\n",
        "        print(\"\\nM =\", missionary_on_left, \"C =\", cannibals_on_left, end='')\n",
        "        print(\"  |-----B|  \", end='')\n",
        "        print(\"M =\", missionary_on_right, \"C =\", cannibals_on_right)\n",
        "\n",
        "    #condition for losing\n",
        "    if (missionary_on_right != 0 and missionary_on_right < cannibals_on_right) or (missionary_on_left != 0 and missionary_on_left < cannibals_on_left):\n",
        "        print(\"YOU LOSE\")\n",
        "        break\n",
        "\n",
        "    #condition for winning\n",
        "    if missionary_on_left == 3 and cannibals_on_left == 3:\n",
        "        print(\"YOU WIN\")\n",
        "        break\n",
        "print(\"GAME OVER\")\n"
      ]
    },
    {
      "cell_type": "code",
      "execution_count": null,
      "metadata": {
        "id": "vk0tXI78tRcv"
      },
      "outputs": [],
      "source": []
    }
  ],
  "metadata": {
    "colab": {
      "provenance": [],
      "authorship_tag": "ABX9TyPHPMnfd2epsB173DfwEJQm",
      "include_colab_link": true
    },
    "kernelspec": {
      "display_name": "Python 3",
      "name": "python3"
    },
    "language_info": {
      "name": "python"
    }
  },
  "nbformat": 4,
  "nbformat_minor": 0
}