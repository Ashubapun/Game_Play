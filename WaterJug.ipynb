{
  "nbformat": 4,
  "nbformat_minor": 0,
  "metadata": {
    "colab": {
      "provenance": [],
      "authorship_tag": "ABX9TyM8gPYx3hZd/NoUiUAklSa6",
      "include_colab_link": true
    },
    "kernelspec": {
      "name": "python3",
      "display_name": "Python 3"
    },
    "language_info": {
      "name": "python"
    }
  },
  "cells": [
    {
      "cell_type": "markdown",
      "metadata": {
        "id": "view-in-github",
        "colab_type": "text"
      },
      "source": [
        "<a href=\"https://colab.research.google.com/github/Ashubapun/Game_Play/blob/main/WaterJug.ipynb\" target=\"_parent\"><img src=\"https://colab.research.google.com/assets/colab-badge.svg\" alt=\"Open In Colab\"/></a>"
      ]
    },
    {
      "cell_type": "code",
      "execution_count": null,
      "metadata": {
        "colab": {
          "base_uri": "https://localhost:8080/"
        },
        "id": "w2vAgpPF8PFO",
        "outputId": "f12d817b-52cf-4559-fc6f-826f0cdfd488"
      },
      "outputs": [
        {
          "output_type": "stream",
          "name": "stdout",
          "text": [
            "Steps: \n",
            "0 0\n",
            "4 0\n",
            "4 3\n",
            "0 3\n",
            "3 0\n",
            "3 3\n",
            "4 2\n",
            "0 2\n"
          ]
        },
        {
          "output_type": "execute_result",
          "data": {
            "text/plain": [
              "True"
            ]
          },
          "metadata": {},
          "execution_count": 4
        }
      ],
      "source": [
        "from collections import defaultdict\n",
        "\n",
        "visited = defaultdict(lambda: False)\n",
        "\n",
        "jug1, jug2, target = 4, 3, 2\n",
        "def waterJugSolver(a, b):\n",
        "  if (a == target and b == 0) or (b == target and a == 0):\n",
        "        print(a, b)\n",
        "        return True\n",
        "  if visited[(a, b)] == False:\n",
        "        print(a, b)\n",
        "        visited[(a, b)] = True\n",
        "        return (waterJugSolver(0, b) or\n",
        "                waterJugSolver(a, 0) or\n",
        "                waterJugSolver(jug1, b) or\n",
        "                waterJugSolver(a, jug2) or\n",
        "                waterJugSolver(a + min(b, (jug1-a)), b - min(b, (jug1-a))) or\n",
        "                waterJugSolver(a - min(a, (jug2-b)), b + min(a, (jug2-b))))\n",
        "\n",
        "  else:\n",
        "        return False\n",
        "\n",
        "print(\"Steps: \")\n",
        "waterJugSolver(0, 0)\n",
        "\n",
        "\n"
      ]
    },
    {
      "cell_type": "code",
      "source": [
        "jug1, jug2, target = 4, 3, 2\n",
        "def waterJugSolver(x, y):\n",
        "  if (x == target and y == 0) or (y == target and x == 0):\n",
        "        print(x, y)\n",
        "        return True\n",
        "  else:\n",
        "    if x<4:\n",
        "      #jug1, jug2 = 4, y\n",
        "      print(4, y)\n",
        "    if y<3:\n",
        "      #jug1, jug2 = x, 3\n",
        "      print(x, 3)\n",
        "    if x>0:\n",
        "      #jug1, jug2 = 0, y\n",
        "      print(0, y)\n",
        "    if y>0:\n",
        "      #jug1, jug2 = x, 0\n",
        "      print(x, 0)\n",
        "    if (x+y>=4) and y>0:\n",
        "      #jug1, jug2 = 4, y-(4-x)\n",
        "      print(4, y-(4-x))\n",
        "    if (x+y>=3) and x>0:\n",
        "      #jug1, jug2 = x-(3-y), 3\n",
        "      print(x-(3-y), 3)\n",
        "    if (x+y<=4) and y>0:\n",
        "      #jug1, jug2 = x+y, 0\n",
        "      print(x+y, 0)\n",
        "    if (x+y<=3) and x>0:\n",
        "      #jug1, jug2 = 0, x+y\n",
        "      print(0, x+y)\n",
        "\n",
        "print('Steps : ')\n",
        "waterJugSolver(0, 0)\n"
      ],
      "metadata": {
        "colab": {
          "base_uri": "https://localhost:8080/"
        },
        "id": "NQ6QkqjpEH-l",
        "outputId": "59976864-c1f0-4e5f-dc8c-dcbbe12238bd"
      },
      "execution_count": null,
      "outputs": [
        {
          "output_type": "stream",
          "name": "stdout",
          "text": [
            "Steps : \n",
            "4 0\n",
            "0 3\n"
          ]
        }
      ]
    },
    {
      "cell_type": "code",
      "source": [],
      "metadata": {
        "id": "9XNlZmstMV6L"
      },
      "execution_count": null,
      "outputs": []
    }
  ]
}